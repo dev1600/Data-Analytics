{
 "cells": [
  {
   "cell_type": "code",
   "execution_count": 2,
   "id": "4ce16452",
   "metadata": {},
   "outputs": [],
   "source": [
    "import numpy as np\n",
    "import matplotlib.pyplot as plt\n",
    "import pandas as pd\n",
    "import seaborn as sns"
   ]
  },
  {
   "cell_type": "code",
   "execution_count": 3,
   "id": "1d7041a6",
   "metadata": {},
   "outputs": [
    {
     "data": {
      "text/html": [
       "<div>\n",
       "<style scoped>\n",
       "    .dataframe tbody tr th:only-of-type {\n",
       "        vertical-align: middle;\n",
       "    }\n",
       "\n",
       "    .dataframe tbody tr th {\n",
       "        vertical-align: top;\n",
       "    }\n",
       "\n",
       "    .dataframe thead th {\n",
       "        text-align: right;\n",
       "    }\n",
       "</style>\n",
       "<table border=\"1\" class=\"dataframe\">\n",
       "  <thead>\n",
       "    <tr style=\"text-align: right;\">\n",
       "      <th></th>\n",
       "      <th>R&amp;D Spend</th>\n",
       "      <th>Administration</th>\n",
       "      <th>Marketing Spend</th>\n",
       "      <th>State</th>\n",
       "      <th>Profit</th>\n",
       "    </tr>\n",
       "  </thead>\n",
       "  <tbody>\n",
       "    <tr>\n",
       "      <th>0</th>\n",
       "      <td>165349.20</td>\n",
       "      <td>136897.80</td>\n",
       "      <td>471784.10</td>\n",
       "      <td>New York</td>\n",
       "      <td>192261.83</td>\n",
       "    </tr>\n",
       "    <tr>\n",
       "      <th>1</th>\n",
       "      <td>162597.70</td>\n",
       "      <td>151377.59</td>\n",
       "      <td>443898.53</td>\n",
       "      <td>California</td>\n",
       "      <td>191792.06</td>\n",
       "    </tr>\n",
       "    <tr>\n",
       "      <th>2</th>\n",
       "      <td>153441.51</td>\n",
       "      <td>101145.55</td>\n",
       "      <td>407934.54</td>\n",
       "      <td>Florida</td>\n",
       "      <td>191050.39</td>\n",
       "    </tr>\n",
       "    <tr>\n",
       "      <th>3</th>\n",
       "      <td>144372.41</td>\n",
       "      <td>118671.85</td>\n",
       "      <td>383199.62</td>\n",
       "      <td>New York</td>\n",
       "      <td>182901.99</td>\n",
       "    </tr>\n",
       "    <tr>\n",
       "      <th>4</th>\n",
       "      <td>142107.34</td>\n",
       "      <td>91391.77</td>\n",
       "      <td>366168.42</td>\n",
       "      <td>Florida</td>\n",
       "      <td>166187.94</td>\n",
       "    </tr>\n",
       "  </tbody>\n",
       "</table>\n",
       "</div>"
      ],
      "text/plain": [
       "   R&D Spend  Administration  Marketing Spend       State     Profit\n",
       "0  165349.20       136897.80        471784.10    New York  192261.83\n",
       "1  162597.70       151377.59        443898.53  California  191792.06\n",
       "2  153441.51       101145.55        407934.54     Florida  191050.39\n",
       "3  144372.41       118671.85        383199.62    New York  182901.99\n",
       "4  142107.34        91391.77        366168.42     Florida  166187.94"
      ]
     },
     "execution_count": 3,
     "metadata": {},
     "output_type": "execute_result"
    }
   ],
   "source": [
    "df_companies=pd.read_csv('1000_Companies.csv')\n",
    "df_companies.head()"
   ]
  },
  {
   "cell_type": "code",
   "execution_count": 19,
   "id": "921e9c2d",
   "metadata": {},
   "outputs": [
    {
     "data": {
      "text/plain": [
       "array([[165349.2, 136897.8, 471784.1, 'New York'],\n",
       "       [162597.7, 151377.59, 443898.53, 'California'],\n",
       "       [153441.51, 101145.55, 407934.54, 'Florida'],\n",
       "       ...,\n",
       "       [100275.47, 241926.31, 227142.82, 'California'],\n",
       "       [128456.23, 321652.14, 281692.32, 'California'],\n",
       "       [161181.72, 270939.86, 295442.17, 'New York']], dtype=object)"
      ]
     },
     "execution_count": 19,
     "metadata": {},
     "output_type": "execute_result"
    }
   ],
   "source": [
    "# below line takes every row and all columns except last column\n",
    "# .values convert the df to numpy data\n",
    "# better to use to_numpy() than values\n",
    "x=df_companies.iloc[:, :-1].values\n",
    "y=df_companies.iloc[:,:4].values\n",
    "y"
   ]
  },
  {
   "cell_type": "code",
   "execution_count": 20,
   "id": "6b885478",
   "metadata": {},
   "outputs": [
    {
     "data": {
      "text/plain": [
       "<matplotlib.axes._subplots.AxesSubplot at 0x7fecc98db280>"
      ]
     },
     "execution_count": 20,
     "metadata": {},
     "output_type": "execute_result"
    },
    {
     "data": {
      "image/png": "[encoded data removed]",
      "text/plain": [
       "<Figure size 432x288 with 2 Axes>"
      ]
     },
     "metadata": {
      "needs_background": "light"
     },
     "output_type": "display_data"
    }
   ],
   "source": [
    "sns.heatmap(df_companies.corr())\n",
    "# companies.corr()"
   ]
  },
  {
   "cell_type": "code",
   "execution_count": null,
   "id": "f8f88057",
   "metadata": {},
   "outputs": [],
   "source": []
  },
  {
   "cell_type": "code",
   "execution_count": 70,
   "id": "27ee8875",
   "metadata": {},
   "outputs": [],
   "source": [
    "# Splitting the dataset into the training set and Test set \n",
    "from sklearn.model_selection import train_test_split\n",
    "X_train,X_test,y_train,y_test=train_test_split(x[:,:2],y[:,:2],test_size=0.2,\n",
    "                                              random_state=0)"
   ]
  },
  {
   "cell_type": "code",
   "execution_count": 71,
   "id": "389efa46",
   "metadata": {},
   "outputs": [
    {
     "data": {
      "text/plain": [
       "LinearRegression()"
      ]
     },
     "execution_count": 71,
     "metadata": {},
     "output_type": "execute_result"
    }
   ],
   "source": [
    "# Fitting Multiple Linear Regression to the Training set\n",
    "from sklearn.linear_model import LinearRegression\n",
    "regressor=LinearRegression()\n",
    "regressor.fit(X_train,y_train)"
   ]
  },
  {
   "cell_type": "code",
   "execution_count": 74,
   "id": "6c218f45",
   "metadata": {},
   "outputs": [
    {
     "data": {
      "text/plain": [
       "array([[ 47970.22279057, 117368.4374    ],\n",
       "       [ 46438.23984393, 117133.7666    ],\n",
       "       [ 53704.79437691, 118246.8651    ],\n",
       "       [145459.86855723, 132302.0043    ],\n",
       "       [ 41587.76410167, 116390.7656    ],\n",
       "       [ 72103.05097627, 121065.1295    ],\n",
       "       [143325.50891839, 127864.55      ],\n",
       "       [ 49860.8574178 , 117658.0468    ],\n",
       "       [132801.96828657, 130363.0537    ],\n",
       "       [  7874.49908388, 111226.5321    ],\n",
       "       [ 22308.30402461, 113437.5176    ],\n",
       "       [117243.0380978 , 127979.7204    ],\n",
       "       [ 89680.84347373, 123757.7143    ],\n",
       "       [ 13755.61658315, 112127.4079    ],\n",
       "       [146530.03908256, 132465.9341    ],\n",
       "       [ 32492.27846726, 114997.5096    ],\n",
       "       [ 80932.44017648, 122417.6247    ],\n",
       "       [131992.10949057, 130238.9987    ],\n",
       "       [108548.91242973, 156547.42      ],\n",
       "       [152432.3672268 , 133370.059     ],\n",
       "       [ 27844.3507001 , 152701.92      ],\n",
       "       [ 43340.52998576, 116659.2562    ],\n",
       "       [151427.75664079, 133216.1717    ],\n",
       "       [ 41627.29293103, 116396.8207    ],\n",
       "       [ 65064.99236738, 119987.0323    ],\n",
       "       [ 60826.73126475, 119337.8109    ],\n",
       "       [-23510.59644978, 124153.04      ],\n",
       "       [ 11780.13959704, 111824.8023    ],\n",
       "       [ 24494.9228066 , 113772.4662    ],\n",
       "       [194865.02577786, 151377.59      ],\n",
       "       [ 83775.6230477 , 122853.1464    ],\n",
       "       [ 72614.03333573, 121143.4023    ],\n",
       "       [ 61896.90182756, 119501.7408    ],\n",
       "       [103078.22199043, 125809.9389    ],\n",
       "       [ 18959.92349881, 112924.6091    ],\n",
       "       [ 69392.91636925, 120649.9882    ],\n",
       "       [156865.37999735, 134049.1125    ],\n",
       "       [140698.09158247, 131572.5902    ],\n",
       "       [144295.21444705, 132123.6013    ],\n",
       "       [ 80284.55312103, 122318.3806    ],\n",
       "       [ 56552.79785876, 118683.1253    ],\n",
       "       [132978.40182153, 130390.08      ],\n",
       "       [ 68119.31694518, 120454.8969    ],\n",
       "       [  4472.12799046, 110705.3533    ],\n",
       "       [ 78983.95846485, 122119.1542    ],\n",
       "       [ 12963.11190122, 112006.0112    ],\n",
       "       [126062.78611423, 129330.7387    ],\n",
       "       [ 36320.78954732, 115583.9649    ],\n",
       "       [127535.95780725, 129556.4007    ],\n",
       "       [ 95414.45102253, 124635.9944    ],\n",
       "       [155796.17359415, 133885.3304    ],\n",
       "       [144255.68565518, 132117.5463    ],\n",
       "       [ 52413.84091412, 118049.1155    ],\n",
       "       [ 35890.79310043, 115518.0976    ],\n",
       "       [150945.69785189, 133142.3294    ],\n",
       "       [ 42972.23702718, 116602.8407    ],\n",
       "       [108630.57538403, 126660.4543    ],\n",
       "       [139567.18164387, 131399.3563    ],\n",
       "       [ 42658.89878662, 116554.8432    ],\n",
       "       [ 66188.18940395, 120159.0848    ],\n",
       "       [107236.46126513, 126446.9024    ],\n",
       "       [  6888.20675291, 111075.4508    ],\n",
       "       [106452.6336262 , 126326.8348    ],\n",
       "       [104240.94785636, 125988.0465    ],\n",
       "       [ 57524.6283857 , 118831.9913    ],\n",
       "       [ 75695.3532677 , 121615.4022    ],\n",
       "       [ 90284.3810892 , 123850.1648    ],\n",
       "       [118801.0521544 , 128218.3786    ],\n",
       "       [ 14008.21541986, 112166.1013    ],\n",
       "       [143892.21331685, 132061.8692    ],\n",
       "       [ 87106.64944058, 123363.3966    ],\n",
       "       [137038.30114495, 131011.9797    ],\n",
       "       [ 50632.15154407, 117776.1945    ],\n",
       "       [123334.33320508, 128912.7914    ],\n",
       "       [ 41809.51116126, 116424.7331    ],\n",
       "       [ 35370.16959469, 115438.348     ],\n",
       "       [ 83365.873053  , 122790.3805    ],\n",
       "       [ 52787.91852087, 118106.4171    ],\n",
       "       [103281.65075749, 125841.1003    ],\n",
       "       [108431.96710553, 126630.0312    ],\n",
       "       [140367.39925609, 131521.9344    ],\n",
       "       [104475.22839112, 126023.9338    ],\n",
       "       [ 67381.76700009, 120341.9182    ],\n",
       "       [121955.64501233, 128701.6025    ],\n",
       "       [105200.24487064, 126134.9926    ],\n",
       "       [ 71654.73632145, 120996.4562    ],\n",
       "       [ 25367.44926014, 113906.1207    ],\n",
       "       [ 46909.69341153, 117205.9844    ],\n",
       "       [104532.11135338, 126032.6472    ],\n",
       "       [114692.94697747, 127589.0947    ],\n",
       "       [125296.3125986 , 129213.3295    ],\n",
       "       [ 12851.27425863, 111988.8798    ],\n",
       "       [ 53155.24735732, 118162.6849    ],\n",
       "       [ 74638.68033968, 121453.5399    ],\n",
       "       [ 11414.73899561, 111768.8298    ],\n",
       "       [ 68556.06225656, 120521.798     ],\n",
       "       [113632.41759843, 127426.6417    ],\n",
       "       [118810.69333818, 128219.8555    ],\n",
       "       [136409.69641956, 130915.6893    ],\n",
       "       [ 80507.26430274, 122352.4958    ],\n",
       "       [ 83758.26891479, 122850.4881    ],\n",
       "       [104281.44077035, 125994.2492    ],\n",
       "       [124859.56733431, 129146.4284    ],\n",
       "       [ 85105.14126481, 123056.8034    ],\n",
       "       [ 45721.90047317, 117024.037     ],\n",
       "       [ 65815.07583474, 120101.9308    ],\n",
       "       [ 54984.17844915, 118442.8425    ],\n",
       "       [148298.2308553 , 132736.7876    ],\n",
       "       [151505.85013988, 133228.1341    ],\n",
       "       [ 71271.01748382, 120937.6777    ],\n",
       "       [132755.69063021, 130355.9649    ],\n",
       "       [135622.97640464, 130795.1787    ],\n",
       "       [125392.72435272, 129228.0979    ],\n",
       "       [144246.04447141, 132116.0694    ],\n",
       "       [138309.00815555, 131206.6279    ],\n",
       "       [  5850.81618321, 110916.5422    ],\n",
       "       [145883.11618672, 132366.8378    ],\n",
       "       [ 64779.61352813, 119943.3176    ],\n",
       "       [ 40015.28824105, 116149.8921    ],\n",
       "       [103919.89667627, 125938.8675    ],\n",
       "       [110174.12768371, 126896.8972    ],\n",
       "       [129728.36133161, 129892.2354    ],\n",
       "       [138697.54756632, 131266.1448    ],\n",
       "       [ 83407.33013622, 122796.7309    ],\n",
       "       [126584.373695  , 129410.636     ],\n",
       "       [ 70916.22220714, 120883.3298    ],\n",
       "       [138506.65222734, 131236.9032    ],\n",
       "       [ 15354.12360537, 112372.2689    ],\n",
       "       [125770.65844798, 129285.9903    ],\n",
       "       [124795.93555465, 129136.6812    ],\n",
       "       [143941.38329249, 132069.4011    ],\n",
       "       [123474.13027706, 128934.2057    ],\n",
       "       [ 63613.99533332, 119764.767     ],\n",
       "       [ 44086.75700211, 116773.564     ],\n",
       "       [106183.64483522, 126285.6308    ],\n",
       "       [134285.74533259, 130590.3403    ],\n",
       "       [ 84228.75836025, 122922.5582    ],\n",
       "       [131565.03033105, 148718.95      ],\n",
       "       [ 60998.34422656, 119364.0988    ],\n",
       "       [ 40316.09296895, 116195.9697    ],\n",
       "       [147798.81788639, 132660.287     ],\n",
       "       [ 61452.44362376, 119433.6582    ],\n",
       "       [ 27089.36329194, 114169.8853    ],\n",
       "       [ 49270.81748423, 117567.6639    ],\n",
       "       [ 16685.5700526 , 112576.2213    ],\n",
       "       [ 25297.06866308, 113895.3397    ],\n",
       "       [ 29842.88322643, 114591.6724    ],\n",
       "       [145856.12087003, 132362.7026    ],\n",
       "       [ 48862.99569629, 117505.1933    ],\n",
       "       [ 87447.91149543, 157693.92      ],\n",
       "       [ 52197.87858729, 118016.0342    ],\n",
       "       [ 15322.35388217, 115641.28      ],\n",
       "       [141274.63396584, 131660.9056    ],\n",
       "       [ 15503.56183777, 112395.16      ],\n",
       "       [137971.56696467, 131154.9383    ],\n",
       "       [134099.67056676, 130561.8371    ],\n",
       "       [133937.69883581, 130537.0261    ],\n",
       "       [ 62868.73240161, 119650.6068    ],\n",
       "       [151899.2101709 , 133288.3894    ],\n",
       "       [ 30884.1302754 , 114751.1717    ],\n",
       "       [ 49629.46921193, 117622.6025    ],\n",
       "       [ 99653.6762098 , 125285.3634    ],\n",
       "       [ 20814.8858323 , 113208.7542    ],\n",
       "       [ 28514.32917854, 114388.1631    ],\n",
       "       [ 15962.4818456 , 112465.4579    ],\n",
       "       [155130.93240578, 133783.428     ],\n",
       "       [146140.53558715, 132406.2696    ],\n",
       "       [126409.86845139, 129383.9051    ],\n",
       "       [106693.66306295, 126363.756     ],\n",
       "       [121582.5315277 , 128644.4486    ],\n",
       "       [ 13654.38422781, 112111.901     ],\n",
       "       [ 49889.78097874, 117662.4774    ],\n",
       "       [119643.69096236, 128347.4549    ],\n",
       "       [137277.40225286, 131048.6054    ],\n",
       "       [ 29311.65441478, 114510.2982    ],\n",
       "       [ 78478.76084777, 122041.7675    ],\n",
       "       [ 38058.12950526, 115850.0925    ],\n",
       "       [116209.50399795, 127821.4025    ],\n",
       "       [ 79108.32965779, 122138.2055    ],\n",
       "       [ 93361.84453267, 124321.5739    ],\n",
       "       [144171.80742333, 132104.6977    ],\n",
       "       [169769.17334635, 270939.86      ],\n",
       "       [111427.4805614 , 127088.8871    ],\n",
       "       [117128.30809824, 127962.1459    ],\n",
       "       [ 44821.41462791, 116886.0996    ],\n",
       "       [ 26687.32624638, 114108.3008    ],\n",
       "       [ 26832.90801363, 114130.6012    ],\n",
       "       [ 24649.18159802, 113796.0957    ],\n",
       "       [ 83444.93072132, 122802.4906    ],\n",
       "       [ 48627.75099231, 117469.1583    ],\n",
       "       [135509.2105647 , 130777.752     ],\n",
       "       [ 88107.40353808, 123516.6931    ],\n",
       "       [ 23384.2592827 , 113602.3336    ],\n",
       "       [137367.58358062,  99814.71      ],\n",
       "       [ 80275.87609687, 122317.0515    ],\n",
       "       [133478.77886548, 130466.7283    ],\n",
       "       [137566.63759022, 131092.9108    ],\n",
       "       [112257.58585669, 127216.0435    ],\n",
       "       [106735.12009906, 126370.1064    ],\n",
       "       [ 70434.16337113, 120809.4875    ]])"
      ]
     },
     "execution_count": 74,
     "metadata": {},
     "output_type": "execute_result"
    }
   ],
   "source": [
    "# Predicting the Test set results\n",
    "y_pred=regressor.predict(X_test)\n",
    "y_pred"
   ]
  },
  {
   "cell_type": "code",
   "execution_count": 75,
   "id": "fb551a53",
   "metadata": {},
   "outputs": [
    {
     "name": "stdout",
     "output_type": "stream",
     "text": [
      "[[0.37489792 0.47097678]\n",
      " [1.         0.        ]]\n"
     ]
    }
   ],
   "source": [
    "# Calculating the Coefficients\n",
    "print(regressor.coef_)"
   ]
  },
  {
   "cell_type": "code",
   "execution_count": 76,
   "id": "4562336d",
   "metadata": {},
   "outputs": [
    {
     "name": "stdout",
     "output_type": "stream",
     "text": [
      "[-70952.01989603      0.        ]\n"
     ]
    }
   ],
   "source": [
    "#Caculating the Intercept\n",
    "print(regressor.intercept_)"
   ]
  },
  {
   "cell_type": "code",
   "execution_count": 79,
   "id": "b63f5059",
   "metadata": {},
   "outputs": [
    {
     "data": {
      "text/plain": [
       "0.9854256447217933"
      ]
     },
     "execution_count": 79,
     "metadata": {},
     "output_type": "execute_result"
    }
   ],
   "source": [
    "# Calculating the R squared values\n",
    "# higher the value better the model\n",
    "# anytihng above 0.91 is a good model\n",
    "from sklearn.metrics import r2_score\n",
    "r2_score(y_test,y_pred)"
   ]
  },
  {
   "cell_type": "code",
   "execution_count": null,
   "id": "002c6b54",
   "metadata": {},
   "outputs": [],
   "source": []
  }
 ],
 "metadata": {
  "kernelspec": {
   "display_name": "Python 3 (ipykernel)",
   "language": "python",
   "name": "python3"
  },
  "language_info": {
   "codemirror_mode": {
    "name": "ipython",
    "version": 3
   },
   "file_extension": ".py",
   "mimetype": "text/x-python",
   "name": "python",
   "nbconvert_exporter": "python",
   "pygments_lexer": "ipython3",
   "version": "3.8.10"
  }
 },
 "nbformat": 4,
 "nbformat_minor": 5
}
